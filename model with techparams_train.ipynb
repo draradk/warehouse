{
 "cells": [
  {
   "cell_type": "code",
   "execution_count": 1,
   "id": "48df7e06-2bcb-46c7-a242-51d67cf8b9ad",
   "metadata": {},
   "outputs": [],
   "source": [
    "import numpy as np\n",
    "import pandas as pd\n",
    "import matplotlib.pyplot as plt\n",
    "import seaborn as sns\n",
    "from sklearn.linear_model import LinearRegression\n",
    "from sklearn.model_selection import train_test_split\n",
    "from sklearn.linear_model import LinearRegression\n",
    "from sklearn.preprocessing import StandardScaler\n",
    "from sklearn.metrics import mean_squared_error\n",
    "from sklearn.preprocessing import PolynomialFeatures\n",
    "from sklearn.preprocessing import RobustScaler\n",
    "from sklearn.linear_model import Ridge\n",
    "\n",
    "%matplotlib inline"
   ]
  },
  {
   "cell_type": "code",
   "execution_count": 2,
   "id": "07732f23-fa0a-47de-beb7-736f264f4caf",
   "metadata": {},
   "outputs": [
    {
     "data": {
      "text/html": [
       "<div>\n",
       "<style scoped>\n",
       "    .dataframe tbody tr th:only-of-type {\n",
       "        vertical-align: middle;\n",
       "    }\n",
       "\n",
       "    .dataframe tbody tr th {\n",
       "        vertical-align: top;\n",
       "    }\n",
       "\n",
       "    .dataframe thead th {\n",
       "        text-align: right;\n",
       "    }\n",
       "</style>\n",
       "<table border=\"1\" class=\"dataframe\">\n",
       "  <thead>\n",
       "    <tr style=\"text-align: right;\">\n",
       "      <th></th>\n",
       "      <th>index</th>\n",
       "      <th>back-suspension</th>\n",
       "      <th>battery-capacity</th>\n",
       "      <th>charge-time</th>\n",
       "      <th>compression</th>\n",
       "      <th>consumption-mixed</th>\n",
       "      <th>cylinders-order</th>\n",
       "      <th>cylinders-value</th>\n",
       "      <th>engine-feeding</th>\n",
       "      <th>engine-start</th>\n",
       "      <th>...</th>\n",
       "      <th>configurations_front-brake</th>\n",
       "      <th>configurations_safety-rating</th>\n",
       "      <th>configurations_seats</th>\n",
       "      <th>configurations_tank-volume</th>\n",
       "      <th>supergen_year-stop</th>\n",
       "      <th>models_country-from</th>\n",
       "      <th>models_group</th>\n",
       "      <th>models_light-and-commercial</th>\n",
       "      <th>models_male</th>\n",
       "      <th>target</th>\n",
       "    </tr>\n",
       "  </thead>\n",
       "  <tbody>\n",
       "    <tr>\n",
       "      <th>0</th>\n",
       "      <td>0</td>\n",
       "      <td>9</td>\n",
       "      <td>-1.0</td>\n",
       "      <td>36457</td>\n",
       "      <td>9.0</td>\n",
       "      <td>4.3</td>\n",
       "      <td>0</td>\n",
       "      <td>3</td>\n",
       "      <td>4</td>\n",
       "      <td>2006</td>\n",
       "      <td>...</td>\n",
       "      <td>1</td>\n",
       "      <td>2</td>\n",
       "      <td>13</td>\n",
       "      <td>40.0</td>\n",
       "      <td>2018.0</td>\n",
       "      <td>16</td>\n",
       "      <td>3</td>\n",
       "      <td>0</td>\n",
       "      <td>1</td>\n",
       "      <td>2360</td>\n",
       "    </tr>\n",
       "    <tr>\n",
       "      <th>1</th>\n",
       "      <td>2</td>\n",
       "      <td>3</td>\n",
       "      <td>-1.0</td>\n",
       "      <td>44872</td>\n",
       "      <td>8.0</td>\n",
       "      <td>-1.0</td>\n",
       "      <td>3</td>\n",
       "      <td>7</td>\n",
       "      <td>4</td>\n",
       "      <td>1982</td>\n",
       "      <td>...</td>\n",
       "      <td>4</td>\n",
       "      <td>2</td>\n",
       "      <td>13</td>\n",
       "      <td>108.0</td>\n",
       "      <td>1993.0</td>\n",
       "      <td>34</td>\n",
       "      <td>3</td>\n",
       "      <td>0</td>\n",
       "      <td>1</td>\n",
       "      <td>3060</td>\n",
       "    </tr>\n",
       "  </tbody>\n",
       "</table>\n",
       "<p>2 rows × 32 columns</p>\n",
       "</div>"
      ],
      "text/plain": [
       "   index  back-suspension  battery-capacity  charge-time  compression  \\\n",
       "0      0                9              -1.0        36457          9.0   \n",
       "1      2                3              -1.0        44872          8.0   \n",
       "\n",
       "   consumption-mixed  cylinders-order  cylinders-value  engine-feeding  \\\n",
       "0                4.3                0                3               4   \n",
       "1               -1.0                3                7               4   \n",
       "\n",
       "   engine-start  ...  configurations_front-brake  \\\n",
       "0          2006  ...                           1   \n",
       "1          1982  ...                           4   \n",
       "\n",
       "   configurations_safety-rating  configurations_seats  \\\n",
       "0                             2                    13   \n",
       "1                             2                    13   \n",
       "\n",
       "   configurations_tank-volume  supergen_year-stop  models_country-from  \\\n",
       "0                        40.0              2018.0                   16   \n",
       "1                       108.0              1993.0                   34   \n",
       "\n",
       "   models_group  models_light-and-commercial  models_male  target  \n",
       "0             3                            0            1    2360  \n",
       "1             3                            0            1    3060  \n",
       "\n",
       "[2 rows x 32 columns]"
      ]
     },
     "execution_count": 2,
     "metadata": {},
     "output_type": "execute_result"
    }
   ],
   "source": [
    "df = pd.read_csv(\"https://raw.githubusercontent.com/katarina74/ml_lessons/main/lesson_2/data/techparams_train.csv\")\n",
    "df.head(2)"
   ]
  },
  {
   "cell_type": "code",
   "execution_count": 3,
   "id": "d2dd08e0-a5de-4817-b4fd-9bdac95a7eef",
   "metadata": {},
   "outputs": [],
   "source": [
    "#уберем столбец с индексом\n",
    "df = df.drop(columns='index')"
   ]
  },
  {
   "cell_type": "code",
   "execution_count": 4,
   "id": "71087b88-9b83-4bfe-885a-a27b32600d4a",
   "metadata": {},
   "outputs": [
    {
     "data": {
      "text/html": [
       "<div>\n",
       "<style scoped>\n",
       "    .dataframe tbody tr th:only-of-type {\n",
       "        vertical-align: middle;\n",
       "    }\n",
       "\n",
       "    .dataframe tbody tr th {\n",
       "        vertical-align: top;\n",
       "    }\n",
       "\n",
       "    .dataframe thead th {\n",
       "        text-align: right;\n",
       "    }\n",
       "</style>\n",
       "<table border=\"1\" class=\"dataframe\">\n",
       "  <thead>\n",
       "    <tr style=\"text-align: right;\">\n",
       "      <th></th>\n",
       "      <th>back-suspension</th>\n",
       "      <th>battery-capacity</th>\n",
       "      <th>charge-time</th>\n",
       "      <th>compression</th>\n",
       "      <th>consumption-mixed</th>\n",
       "      <th>cylinders-order</th>\n",
       "      <th>cylinders-value</th>\n",
       "      <th>engine-feeding</th>\n",
       "      <th>engine-start</th>\n",
       "      <th>engine-stop</th>\n",
       "      <th>...</th>\n",
       "      <th>configurations_front-brake</th>\n",
       "      <th>configurations_safety-rating</th>\n",
       "      <th>configurations_seats</th>\n",
       "      <th>configurations_tank-volume</th>\n",
       "      <th>supergen_year-stop</th>\n",
       "      <th>models_country-from</th>\n",
       "      <th>models_group</th>\n",
       "      <th>models_light-and-commercial</th>\n",
       "      <th>models_male</th>\n",
       "      <th>target</th>\n",
       "    </tr>\n",
       "  </thead>\n",
       "  <tbody>\n",
       "    <tr>\n",
       "      <th>0</th>\n",
       "      <td>9</td>\n",
       "      <td>-1.0</td>\n",
       "      <td>36457</td>\n",
       "      <td>9.0</td>\n",
       "      <td>4.3</td>\n",
       "      <td>0</td>\n",
       "      <td>3</td>\n",
       "      <td>4</td>\n",
       "      <td>2006</td>\n",
       "      <td>2018</td>\n",
       "      <td>...</td>\n",
       "      <td>1</td>\n",
       "      <td>2</td>\n",
       "      <td>13</td>\n",
       "      <td>40.0</td>\n",
       "      <td>2018.0</td>\n",
       "      <td>16</td>\n",
       "      <td>3</td>\n",
       "      <td>0</td>\n",
       "      <td>1</td>\n",
       "      <td>2360</td>\n",
       "    </tr>\n",
       "    <tr>\n",
       "      <th>1</th>\n",
       "      <td>3</td>\n",
       "      <td>-1.0</td>\n",
       "      <td>44872</td>\n",
       "      <td>8.0</td>\n",
       "      <td>-1.0</td>\n",
       "      <td>3</td>\n",
       "      <td>7</td>\n",
       "      <td>4</td>\n",
       "      <td>1982</td>\n",
       "      <td>1993</td>\n",
       "      <td>...</td>\n",
       "      <td>4</td>\n",
       "      <td>2</td>\n",
       "      <td>13</td>\n",
       "      <td>108.0</td>\n",
       "      <td>1993.0</td>\n",
       "      <td>34</td>\n",
       "      <td>3</td>\n",
       "      <td>0</td>\n",
       "      <td>1</td>\n",
       "      <td>3060</td>\n",
       "    </tr>\n",
       "  </tbody>\n",
       "</table>\n",
       "<p>2 rows × 31 columns</p>\n",
       "</div>"
      ],
      "text/plain": [
       "   back-suspension  battery-capacity  charge-time  compression  \\\n",
       "0                9              -1.0        36457          9.0   \n",
       "1                3              -1.0        44872          8.0   \n",
       "\n",
       "   consumption-mixed  cylinders-order  cylinders-value  engine-feeding  \\\n",
       "0                4.3                0                3               4   \n",
       "1               -1.0                3                7               4   \n",
       "\n",
       "   engine-start  engine-stop  ...  configurations_front-brake  \\\n",
       "0          2006         2018  ...                           1   \n",
       "1          1982         1993  ...                           4   \n",
       "\n",
       "   configurations_safety-rating  configurations_seats  \\\n",
       "0                             2                    13   \n",
       "1                             2                    13   \n",
       "\n",
       "   configurations_tank-volume  supergen_year-stop  models_country-from  \\\n",
       "0                        40.0              2018.0                   16   \n",
       "1                       108.0              1993.0                   34   \n",
       "\n",
       "   models_group  models_light-and-commercial  models_male  target  \n",
       "0             3                            0            1    2360  \n",
       "1             3                            0            1    3060  \n",
       "\n",
       "[2 rows x 31 columns]"
      ]
     },
     "execution_count": 4,
     "metadata": {},
     "output_type": "execute_result"
    }
   ],
   "source": [
    "df.head(2)"
   ]
  },
  {
   "cell_type": "markdown",
   "id": "ce54e122-1091-4fa7-90ab-f8140b5a9f42",
   "metadata": {},
   "source": [
    "<div style=\"background-color:#CAEDFB; padding: 10px; border: 1px solid #aaa;\">\n",
    "\n",
    "Для поиска лучшего MSE были использованы разные подходы:\n",
    "1. Преобразование данных (sin, cos, log, sqrt)\n",
    "2. Использование полиномиальных признаков\n",
    "3. Использование RobustScaler вместо StandartScaler\n",
    "4. Использование L2-регуляризации"
   ]
  },
  {
   "cell_type": "code",
   "execution_count": 6,
   "id": "c7fe2c4b-8d52-4d00-a237-8d0d18cddc47",
   "metadata": {},
   "outputs": [
    {
     "name": "stdout",
     "output_type": "stream",
     "text": [
      "Train R²: 0.45548738550350776\n",
      "Test R²: 0.46471537322321455\n",
      "Train MSE: 29843.042074394016\n",
      "Test MSE: 31015.7531091195\n"
     ]
    }
   ],
   "source": [
    "#стандарт, который пытаемся обойти\n",
    "X = df.drop([\"target\"], axis=1)\n",
    "y = df[\"target\"] \n",
    "\n",
    "train_X, test_X, train_y, test_y = train_test_split(X, y, test_size=0.33, random_state=42)\n",
    "\n",
    "reg = LinearRegression().fit(train_X, train_y)\n",
    "\n",
    "print(\"Train R²:\", reg.score(train_X, train_y))\n",
    "print(\"Test R²:\", reg.score(test_X, test_y))\n",
    "print(\"Train MSE:\", mean_squared_error(train_y, reg.predict(train_X)))\n",
    "print(\"Test MSE:\", mean_squared_error(test_y, reg.predict(test_X)))"
   ]
  },
  {
   "cell_type": "code",
   "execution_count": 7,
   "id": "f7f99652-c0e2-4605-81ea-8fffade72c43",
   "metadata": {},
   "outputs": [
    {
     "name": "stdout",
     "output_type": "stream",
     "text": [
      "Train R²: 0.20457402504499456\n",
      "Test R²: 0.2173806401722873\n",
      "Train MSE: 43594.82260957065\n",
      "Test MSE: 45346.956793802325\n"
     ]
    }
   ],
   "source": [
    "X = df.drop([\"target\"], axis=1)\n",
    "y = df[\"target\"]\n",
    "\n",
    "train_X, test_X, train_y, test_y = train_test_split(X, y, test_size=0.33, random_state=42)\n",
    "\n",
    "#используем синус\n",
    "train_X_sin = np.sin(train_X)\n",
    "test_X_sin = np.sin(test_X)\n",
    "\n",
    "#Стандартизация после преобразования исходных данных\n",
    "scaler = StandardScaler()\n",
    "train_X_scaled = scaler.fit_transform(train_X_sin)\n",
    "test_X_scaled = scaler.transform(test_X_sin)\n",
    "\n",
    "reg = LinearRegression().fit(train_X_scaled, train_y)\n",
    "\n",
    "print(\"Train R²:\", reg.score(train_X_scaled, train_y))\n",
    "print(\"Test R²:\", reg.score(test_X_scaled, test_y))\n",
    "print(\"Train MSE:\", mean_squared_error(train_y, reg.predict(train_X_scaled)))\n",
    "print(\"Test MSE:\", mean_squared_error(test_y, reg.predict(test_X_scaled)))"
   ]
  },
  {
   "cell_type": "markdown",
   "id": "9ffea78b-fb73-438e-b882-42f19b7e5d21",
   "metadata": {},
   "source": [
    "<div style=\"background-color:#CAEDFB; padding: 10px; border: 1px solid #aaa;\">\n",
    "Использование в качестве преобразования данных синус только ухудшил ситуацию, проверяем дальше."
   ]
  },
  {
   "cell_type": "code",
   "execution_count": 9,
   "id": "e51a5178-2fcb-4de3-b2ac-48b38c0c3446",
   "metadata": {},
   "outputs": [
    {
     "name": "stdout",
     "output_type": "stream",
     "text": [
      "Train R²: 0.27985343800828266\n",
      "Test R²: 0.27838215092880414\n",
      "Train MSE: 39468.99222733703\n",
      "Test MSE: 41812.37406479675\n"
     ]
    }
   ],
   "source": [
    "X = df.drop([\"target\"], axis=1)\n",
    "y = df[\"target\"]\n",
    "\n",
    "train_X, test_X, train_y, test_y = train_test_split(X, y, test_size=0.33, random_state=42)\n",
    "\n",
    "#используем косинус\n",
    "train_X_cos = np.cos(train_X)\n",
    "test_X_cos = np.cos(test_X)\n",
    "\n",
    "#Стандартизация после преобразования исходных данных\n",
    "scaler = StandardScaler()\n",
    "train_X_scaled = scaler.fit_transform(train_X_cos)\n",
    "test_X_scaled = scaler.transform(test_X_cos)\n",
    "\n",
    "reg = LinearRegression().fit(train_X_scaled, train_y)\n",
    "\n",
    "print(\"Train R²:\", reg.score(train_X_scaled, train_y))\n",
    "print(\"Test R²:\", reg.score(test_X_scaled, test_y))\n",
    "print(\"Train MSE:\", mean_squared_error(train_y, reg.predict(train_X_scaled)))\n",
    "print(\"Test MSE:\", mean_squared_error(test_y, reg.predict(test_X_scaled)))"
   ]
  },
  {
   "cell_type": "markdown",
   "id": "5031b301-decd-4aff-a3ec-80c7e3418836",
   "metadata": {},
   "source": [
    "<div style=\"background-color:#CAEDFB; padding: 10px; border: 1px solid #aaa;\">\n",
    "Использование косинуса улучшило ситуацию, однако это тоже плохой результат"
   ]
  },
  {
   "cell_type": "code",
   "execution_count": 11,
   "id": "15095deb-19a5-4300-970a-b9bed68123f7",
   "metadata": {},
   "outputs": [
    {
     "name": "stdout",
     "output_type": "stream",
     "text": [
      "Train R²: 0.3372256097029328\n",
      "Test R²: 0.3309846149418668\n",
      "Train MSE: 36324.60201818453\n",
      "Test MSE: 38764.453472373614\n"
     ]
    }
   ],
   "source": [
    "X = df.drop([\"target\"], axis=1)\n",
    "y = df[\"target\"]\n",
    "\n",
    "train_X, test_X, train_y, test_y = train_test_split(X, y, test_size=0.33, random_state=42)\n",
    "\n",
    "#используем синус\n",
    "train_X_sin = np.sin(train_X)\n",
    "test_X_sin = np.sin(test_X)\n",
    "\n",
    "#воспользуемся полиномиальными признаками\n",
    "poly = PolynomialFeatures(degree=2, interaction_only=True, include_bias=False)\n",
    "train_X_poly = poly.fit_transform(train_X_sin)\n",
    "test_X_poly = poly.transform(test_X_sin)\n",
    "\n",
    "reg = LinearRegression().fit(train_X_poly, train_y)\n",
    "\n",
    "print(\"Train R²:\", reg.score(train_X_poly, train_y))\n",
    "print(\"Test R²:\", reg.score(test_X_poly, test_y))\n",
    "print(\"Train MSE:\", mean_squared_error(train_y, reg.predict(train_X_poly)))\n",
    "print(\"Test MSE:\", mean_squared_error(test_y, reg.predict(test_X_poly)))"
   ]
  },
  {
   "cell_type": "markdown",
   "id": "f83c67f9-b7b6-497b-af07-125daa83c42a",
   "metadata": {},
   "source": [
    "<div style=\"background-color:#CAEDFB; padding: 10px; border: 1px solid #aaa;\">\n",
    "Использование синуса и полиномиального признака еще улучшают ситуацию, однако это не превосходит стандартный результат"
   ]
  },
  {
   "cell_type": "code",
   "execution_count": 13,
   "id": "cb9c8995-9cfe-41d7-b7b0-f902c6c3e14a",
   "metadata": {},
   "outputs": [
    {
     "name": "stdout",
     "output_type": "stream",
     "text": [
      "Train R²: 0.39856883371522\n",
      "Test R²: 0.3918807179676126\n",
      "Train MSE: 32962.57078797975\n",
      "Test MSE: 35235.97833545988\n"
     ]
    }
   ],
   "source": [
    "X = df.drop([\"target\"], axis=1)\n",
    "y = df[\"target\"]\n",
    "\n",
    "train_X, test_X, train_y, test_y = train_test_split(X, y, test_size=0.33, random_state=42)\n",
    "\n",
    "#используем косинус\n",
    "train_X_cos = np.cos(train_X)\n",
    "test_X_cos = np.cos(test_X)\n",
    "\n",
    "#воспользуемся полиномиальными признаками\n",
    "poly = PolynomialFeatures(degree=2, interaction_only=True, include_bias=False)\n",
    "train_X_poly = poly.fit_transform(train_X_cos)\n",
    "test_X_poly = poly.transform(test_X_cos)\n",
    "\n",
    "reg = LinearRegression().fit(train_X_poly, train_y)\n",
    "\n",
    "print(\"Train R²:\", reg.score(train_X_poly, train_y))\n",
    "print(\"Test R²:\", reg.score(test_X_poly, test_y))\n",
    "print(\"Train MSE:\", mean_squared_error(train_y, reg.predict(train_X_poly)))\n",
    "print(\"Test MSE:\", mean_squared_error(test_y, reg.predict(test_X_poly)))"
   ]
  },
  {
   "cell_type": "markdown",
   "id": "1c1827af-304a-462c-bc3f-fb9ee2744d88",
   "metadata": {},
   "source": [
    "<div style=\"background-color:#CAEDFB; padding: 10px; border: 1px solid #aaa;\">\n",
    "Использование косинуса и полиномиального признака выглядит лучше на фоне синуса, но является далеким от результата"
   ]
  },
  {
   "cell_type": "code",
   "execution_count": 15,
   "id": "78cacfe7-0afa-47dd-903c-e9dff59bb85f",
   "metadata": {},
   "outputs": [
    {
     "name": "stdout",
     "output_type": "stream",
     "text": [
      "Train R²: 0.42508702590571945\n",
      "Test R²: 0.4358337156317418\n",
      "Train MSE: 31509.191189033765\n",
      "Test MSE: 32689.229828660697\n"
     ]
    }
   ],
   "source": [
    "X = df.drop([\"target\"], axis=1)\n",
    "y = df[\"target\"]\n",
    "\n",
    "train_X, test_X, train_y, test_y = train_test_split(X, y, test_size=0.33, random_state=42)\n",
    "\n",
    "#используем логарифм, +1, чтобы избежать бесконечности и проблем\n",
    "train_X_log = np.log1p(train_X + 1)\n",
    "test_X_log = np.log1p(test_X + 1)\n",
    "\n",
    "#Стандартизация после преобразования исходных данных\n",
    "scaler = StandardScaler()\n",
    "train_X_scaled = scaler.fit_transform(train_X_log)\n",
    "test_X_scaled = scaler.transform(test_X_log)\n",
    "\n",
    "reg = LinearRegression().fit(train_X_scaled, train_y)\n",
    "\n",
    "print(\"Train R²:\", reg.score(train_X_scaled, train_y))\n",
    "print(\"Test R²:\", reg.score(test_X_scaled, test_y))\n",
    "print(\"Train MSE:\", mean_squared_error(train_y, reg.predict(train_X_scaled)))\n",
    "print(\"Test MSE:\", mean_squared_error(test_y, reg.predict(test_X_scaled)))"
   ]
  },
  {
   "cell_type": "markdown",
   "id": "066af6e0-eecc-4628-9537-e0efd764f8e3",
   "metadata": {},
   "source": [
    "<div style=\"background-color:#CAEDFB; padding: 10px; border: 1px solid #aaa;\">\n",
    "Использование логарифма приближается к стандарту, но не достигает его, нужно искать новые способы"
   ]
  },
  {
   "cell_type": "code",
   "execution_count": 17,
   "id": "fbbedda6-a464-4b59-bb04-9e6e28e242c4",
   "metadata": {},
   "outputs": [
    {
     "name": "stdout",
     "output_type": "stream",
     "text": [
      "Train R²: 0.4554873784882104\n",
      "Test R²: 0.464715056883237\n",
      "Train MSE: 29843.042458880638\n",
      "Test MSE: 31015.77143866261\n"
     ]
    }
   ],
   "source": [
    "X = df.drop([\"target\"], axis=1)\n",
    "y = df[\"target\"]\n",
    "\n",
    "train_X, test_X, train_y, test_y = train_test_split(X, y, test_size=0.33, random_state=42)\n",
    "\n",
    "#Стандартизация после преобразования исходных данных\n",
    "scaler = StandardScaler()\n",
    "train_X_scaled = scaler.fit_transform(train_X)\n",
    "test_X_scaled = scaler.transform(test_X)\n",
    "\n",
    "#воспользуемся L2-регуляризацией\n",
    "reg = Ridge(alpha=1.0).fit(train_X_scaled, train_y)\n",
    "\n",
    "print(\"Train R²:\", reg.score(train_X_scaled, train_y))\n",
    "print(\"Test R²:\", reg.score(test_X_scaled, test_y))\n",
    "print(\"Train MSE:\", mean_squared_error(train_y, reg.predict(train_X_scaled)))\n",
    "print(\"Test MSE:\", mean_squared_error(test_y, reg.predict(test_X_scaled)))"
   ]
  },
  {
   "cell_type": "markdown",
   "id": "67f090cd-9b13-45e6-b32f-7994ac8d91fe",
   "metadata": {},
   "source": [
    "<div style=\"background-color:#CAEDFB; padding: 10px; border: 1px solid #aaa;\">\n",
    "Использование L2-регуляризации дает результаты чуть хуже, чем имеющийся стандарт, который мы пытаемся обойти"
   ]
  },
  {
   "cell_type": "code",
   "execution_count": 19,
   "id": "d4f603cb-00ed-479f-85ae-82193cb73fc0",
   "metadata": {},
   "outputs": [
    {
     "name": "stdout",
     "output_type": "stream",
     "text": [
      "Train R²: 0.45548738550350765\n",
      "Test R²: 0.4647153732232171\n",
      "Train MSE: 29843.042074394023\n",
      "Test MSE: 31015.75310911936\n"
     ]
    }
   ],
   "source": [
    "X = df.drop([\"target\"], axis=1)\n",
    "y = df[\"target\"]\n",
    "\n",
    "train_X, test_X, train_y, test_y = train_test_split(X, y, test_size=0.33, random_state=42)\n",
    "\n",
    "#Стандартизация после преобразования исходных данных\n",
    "scaler = StandardScaler()\n",
    "train_X_scaled = scaler.fit_transform(train_X)\n",
    "test_X_scaled = scaler.transform(test_X)\n",
    "\n",
    "reg = LinearRegression().fit(train_X_scaled, train_y)\n",
    "\n",
    "print(\"Train R²:\", reg.score(train_X_scaled, train_y))\n",
    "print(\"Test R²:\", reg.score(test_X_scaled, test_y))\n",
    "print(\"Train MSE:\", mean_squared_error(train_y, reg.predict(train_X_scaled)))\n",
    "print(\"Test MSE:\", mean_squared_error(test_y, reg.predict(test_X_scaled)))"
   ]
  },
  {
   "cell_type": "markdown",
   "id": "6d4b0e38-20d0-47a4-9560-6a813f4cc29f",
   "metadata": {},
   "source": [
    "<div style=\"background-color:#CAEDFB; padding: 10px; border: 1px solid #aaa;\">\n",
    "Используя стандартизацию, мы получаем примерно тот же результат, который мы пытаемся улучшить"
   ]
  },
  {
   "cell_type": "code",
   "execution_count": 21,
   "id": "92e0188f-73df-41ee-9e0f-43c446eee8cc",
   "metadata": {},
   "outputs": [
    {
     "name": "stdout",
     "output_type": "stream",
     "text": [
      "Train R²: 0.45548738550350765\n",
      "Test R²: 0.4647153732232171\n",
      "Train MSE: 29843.042074394023\n",
      "Test MSE: 31015.75310911936\n"
     ]
    }
   ],
   "source": [
    "X = df.drop([\"target\"], axis=1)\n",
    "y = df[\"target\"] \n",
    "\n",
    "train_X, test_X, train_y, test_y = train_test_split(X, y, test_size=0.33, random_state=42)\n",
    "\n",
    "#исключение выбросов\n",
    "scaler = RobustScaler()\n",
    "train_X_scaled = scaler.fit_transform(train_X)\n",
    "test_X_scaled = scaler.transform(test_X)\n",
    "\n",
    "reg = LinearRegression().fit(train_X_scaled, train_y)\n",
    "\n",
    "print(\"Train R²:\", reg.score(train_X_scaled, train_y))\n",
    "print(\"Test R²:\", reg.score(test_X_scaled, test_y))\n",
    "print(\"Train MSE:\", mean_squared_error(train_y, reg.predict(train_X_scaled)))\n",
    "print(\"Test MSE:\", mean_squared_error(test_y, reg.predict(test_X_scaled)))"
   ]
  },
  {
   "cell_type": "markdown",
   "id": "2bca0554-217f-4048-8d7f-14176a5c1824",
   "metadata": {},
   "source": [
    "<div style=\"background-color:#CAEDFB; padding: 10px; border: 1px solid #aaa;\">\n",
    "Использование RobustScaler дает тот же результат, что и стандартизация, пробуем дальше"
   ]
  },
  {
   "cell_type": "code",
   "execution_count": 23,
   "id": "196712f2-493a-4e45-b8a2-6acd719ea29c",
   "metadata": {},
   "outputs": [
    {
     "name": "stdout",
     "output_type": "stream",
     "text": [
      "Train R²: 0.45676229336648566\n",
      "Test R²: 0.46619494988346866\n",
      "Train MSE: 29773.168341475986\n",
      "Test MSE: 30930.02267318902\n"
     ]
    }
   ],
   "source": [
    "X = df.drop([\"target\"], axis=1)\n",
    "y = df[\"target\"]\n",
    "\n",
    "train_X, test_X, train_y, test_y = train_test_split(X, y, test_size=0.33, random_state=42)\n",
    "\n",
    "#извлечем корень, перед этим возведя все данные в квадрат, тем самым избавившись от отрицательных значений\n",
    "train_X_sqrt = np.sqrt(train_X ** 2)\n",
    "test_X_sqrt = np.sqrt(test_X ** 2)\n",
    "\n",
    "reg = LinearRegression().fit(train_X_sqrt, train_y)\n",
    "\n",
    "print(\"Train R²:\", reg.score(train_X_sqrt, train_y))\n",
    "print(\"Test R²:\", reg.score(test_X_sqrt, test_y))\n",
    "print(\"Train MSE:\", mean_squared_error(train_y, reg.predict(train_X_sqrt)))\n",
    "print(\"Test MSE:\", mean_squared_error(test_y, reg.predict(test_X_sqrt)))"
   ]
  },
  {
   "cell_type": "markdown",
   "id": "5729646c-d868-40f2-9087-275fd0ea4711",
   "metadata": {},
   "source": [
    "<div style=\"background-color:#CAEDFB; padding: 10px; border: 1px solid #aaa;\">\n",
    "Данный способ дает лучший результат, проверим другие способы"
   ]
  },
  {
   "cell_type": "code",
   "execution_count": 25,
   "id": "ed2b5a66-3ec2-4976-afc0-ff8d6966da75",
   "metadata": {},
   "outputs": [
    {
     "name": "stdout",
     "output_type": "stream",
     "text": [
      "Train R²: 0.6115380894252873\n",
      "Test R²: 0.6147896092347913\n",
      "Train MSE: 21290.388565746107\n",
      "Test MSE: 22320.070066244072\n"
     ]
    }
   ],
   "source": [
    "X = df.drop([\"target\"], axis=1)\n",
    "y = df[\"target\"]\n",
    "\n",
    "train_X, test_X, train_y, test_y = train_test_split(X, y, test_size=0.33, random_state=42)\n",
    "\n",
    "#воспользуемся полиномиальными признаками\n",
    "poly = PolynomialFeatures(degree=2, interaction_only=True, include_bias=False)\n",
    "train_X_poly = poly.fit_transform(train_X)\n",
    "test_X_poly = poly.transform(test_X)\n",
    "\n",
    "reg = LinearRegression().fit(train_X_poly, train_y)\n",
    "\n",
    "print(\"Train R²:\", reg.score(train_X_poly, train_y))\n",
    "print(\"Test R²:\", reg.score(test_X_poly, test_y))\n",
    "print(\"Train MSE:\", mean_squared_error(train_y, reg.predict(train_X_poly)))\n",
    "print(\"Test MSE:\", mean_squared_error(test_y, reg.predict(test_X_poly)))"
   ]
  },
  {
   "cell_type": "markdown",
   "id": "5647d44c-3f53-435f-9b8a-3fb862d49d2d",
   "metadata": {},
   "source": [
    "<div style=\"background-color:#CAEDFB; padding: 10px; border: 1px solid #aaa;\">\n",
    "С использованием полиномиального признака получен достаточно хороший результат, проверим, можно ли еще улучшить"
   ]
  },
  {
   "cell_type": "code",
   "execution_count": 27,
   "id": "96beda97-1314-4478-9739-b47dc3d1db8e",
   "metadata": {},
   "outputs": [
    {
     "name": "stdout",
     "output_type": "stream",
     "text": [
      "Train R²: 0.6130641740540038\n",
      "Test R²: 0.616274662276814\n",
      "Train MSE: 21206.74861586912\n",
      "Test MSE: 22234.022314821297\n"
     ]
    }
   ],
   "source": [
    "X = df.drop([\"target\"], axis=1)\n",
    "y = df[\"target\"]\n",
    "\n",
    "train_X, test_X, train_y, test_y = train_test_split(X, y, test_size=0.33, random_state=42)\n",
    "\n",
    "#извлечем корень, перед этим возведя все данные в квадрат, тем самым избавившись от отрицательных значений\n",
    "train_X_sqrt = np.sqrt(train_X ** 2)\n",
    "test_X_sqrt = np.sqrt(test_X ** 2)\n",
    "\n",
    "#воспользуемся полиномиальными признаками\n",
    "poly = PolynomialFeatures(degree=2, interaction_only=True, include_bias=False)\n",
    "train_X_poly = poly.fit_transform(train_X_sqrt)\n",
    "test_X_poly = poly.transform(test_X_sqrt)\n",
    "\n",
    "reg = LinearRegression().fit(train_X_poly, train_y)\n",
    "\n",
    "print(\"Train R²:\", reg.score(train_X_poly, train_y))\n",
    "print(\"Test R²:\", reg.score(test_X_poly, test_y))\n",
    "print(\"Train MSE:\", mean_squared_error(train_y, reg.predict(train_X_poly)))\n",
    "print(\"Test MSE:\", mean_squared_error(test_y, reg.predict(test_X_poly)))"
   ]
  },
  {
   "cell_type": "markdown",
   "id": "70e40524-e949-4a7c-8adb-7a2413af1d2b",
   "metadata": {},
   "source": [
    "<div style=\"background-color:#CAEDFB; padding: 10px; border: 1px solid #aaa;\">\n",
    "Использование корня и полиномиального признака помогло нам достигнуть наилучшего результата"
   ]
  }
 ],
 "metadata": {
  "kernelspec": {
   "display_name": "Python [conda env:base] *",
   "language": "python",
   "name": "conda-base-py"
  },
  "language_info": {
   "codemirror_mode": {
    "name": "ipython",
    "version": 3
   },
   "file_extension": ".py",
   "mimetype": "text/x-python",
   "name": "python",
   "nbconvert_exporter": "python",
   "pygments_lexer": "ipython3",
   "version": "3.12.7"
  }
 },
 "nbformat": 4,
 "nbformat_minor": 5
}
