{
 "cells": [
  {
   "cell_type": "code",
   "execution_count": 1,
   "id": "a4151573-21f5-4cec-9a17-b80b75cf015f",
   "metadata": {},
   "outputs": [],
   "source": [
    "import numpy as np\n",
    "from sklearn.datasets import load_digits\n",
    "from sklearn.model_selection import train_test_split"
   ]
  },
  {
   "cell_type": "code",
   "execution_count": 2,
   "id": "082629be-b6f7-4335-b869-3e9f3b60b4e4",
   "metadata": {},
   "outputs": [],
   "source": [
    "# Задаем вспомогательные функции\n",
    "def sigmoid(z):\n",
    "    return 1 / (1 + np.exp(-z))\n",
    "\n",
    "def log_loss(y_true, y_pred):\n",
    "    epsilon = 1e-15\n",
    "    y_pred = np.clip(y_pred, epsilon, 1 - epsilon)\n",
    "    return -np.mean(y_true * np.log(y_pred) + (1 - y_true) * np.log(1 - y_pred))\n",
    "\n",
    "def gradient(X, y, learning_rate=0.01, views=1000):\n",
    "    m, n = X.shape \n",
    "    w = np.zeros(n)\n",
    "    b = 0\n",
    "    \n",
    "    for view in range(views):\n",
    "        z = np.dot(X, w) + b\n",
    "        y_pred = sigmoid(z)\n",
    "\n",
    "        dw = (1 / m) * np.dot(X.T, (y_pred - y))\n",
    "        db = (1 / m) * np.sum(y_pred - y)\n",
    "\n",
    "        w -= learning_rate * dw\n",
    "        b -= learning_rate * db\n",
    "\n",
    "        if view % 100 == 0:\n",
    "            loss = log_loss(y, y_pred)\n",
    "    \n",
    "    return w, b\n",
    "\n",
    "def predict(X, w, b, threshold=0.5):\n",
    "    z = np.dot(X, w) + b\n",
    "    y_pred = sigmoid(z)\n",
    "    return (y_pred >= threshold).astype(int)\n",
    "\n",
    "def accuracy(y_true, y_pred):\n",
    "    return np.mean(y_true == y_pred)"
   ]
  },
  {
   "cell_type": "code",
   "execution_count": 3,
   "id": "13ae155f-cb58-48e3-a678-b04fa4642b69",
   "metadata": {},
   "outputs": [],
   "source": [
    "# Загружаем данные\n",
    "data = load_digits()\n",
    "X = data['data']\n",
    "y = (data['target'] >= 5).astype(np.int32)\n",
    "\n",
    "# Разделяем на выборки\n",
    "X_train, X_test, y_train, y_test = train_test_split(X, y, train_size=0.77, shuffle=True, random_state=13)"
   ]
  },
  {
   "cell_type": "code",
   "execution_count": 4,
   "id": "b3fc7595-7e74-4293-a33f-e83725e69b82",
   "metadata": {},
   "outputs": [],
   "source": [
    "# Обучаем модель\n",
    "w, b = gradient(X_train, y_train, learning_rate=0.01, views=1000)"
   ]
  },
  {
   "cell_type": "code",
   "execution_count": 5,
   "id": "5a71470a-529a-4fcf-9228-1d8594fd9a71",
   "metadata": {},
   "outputs": [],
   "source": [
    "# Прогноз\n",
    "y_pred = predict(X_test, w, b)"
   ]
  },
  {
   "cell_type": "code",
   "execution_count": 6,
   "id": "aff68aa9-bd9c-4fe4-9d1e-30c23fe83138",
   "metadata": {},
   "outputs": [
    {
     "name": "stdout",
     "output_type": "stream",
     "text": [
      "Accuracy on test data: 0.8816\n"
     ]
    }
   ],
   "source": [
    "# Вычисляем точность\n",
    "acc = accuracy(y_test, y_pred)\n",
    "print(f\"Accuracy on test data: {acc:.4f}\")"
   ]
  },
  {
   "cell_type": "code",
   "execution_count": null,
   "id": "f995bac9-fb0d-42b0-b7df-02f3662187b7",
   "metadata": {},
   "outputs": [],
   "source": []
  }
 ],
 "metadata": {
  "kernelspec": {
   "display_name": "Python 3 (ipykernel)",
   "language": "python",
   "name": "python3"
  },
  "language_info": {
   "codemirror_mode": {
    "name": "ipython",
    "version": 3
   },
   "file_extension": ".py",
   "mimetype": "text/x-python",
   "name": "python",
   "nbconvert_exporter": "python",
   "pygments_lexer": "ipython3",
   "version": "3.12.7"
  }
 },
 "nbformat": 4,
 "nbformat_minor": 5
}
