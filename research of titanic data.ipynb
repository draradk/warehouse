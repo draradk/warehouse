{
 "cells": [
  {
   "cell_type": "code",
   "execution_count": 1,
   "metadata": {
    "executionInfo": {
     "elapsed": 1586,
     "status": "ok",
     "timestamp": 1739947867888,
     "user": {
      "displayName": "Екатерина Глазунова",
      "userId": "00980401327405697360"
     },
     "user_tz": -180
    },
    "id": "1H4ud5hc92YZ"
   },
   "outputs": [],
   "source": [
    "import numpy as np\n",
    "import pandas as pd\n",
    "import seaborn as sns\n",
    "import matplotlib.pyplot as plt\n",
    "%matplotlib inline\n",
    "\n",
    "plt.rcParams[\"figure.figsize\"] = (12,6)"
   ]
  },
  {
   "cell_type": "markdown",
   "metadata": {
    "id": "2wubgrQ0-LFn"
   },
   "source": [
    "# NumPy"
   ]
  },
  {
   "cell_type": "markdown",
   "metadata": {
    "id": "2k7YwLDI-ZTO"
   },
   "source": [
    "**Задача 1**\\\n",
    "Сгенерировать массив из случайных положительных чисел произвольной длины. Вывести элементы, которые больше среднего арифметического."
   ]
  },
  {
   "cell_type": "code",
   "execution_count": 4,
   "metadata": {},
   "outputs": [
    {
     "name": "stdout",
     "output_type": "stream",
     "text": [
      "Сгенерированный массив случайных положительных чисел: [4, 11, 13, 16, 22, 33, 51, 66, 67, 85]\n",
      "Среднее арифметическое значение: 36.8\n",
      "Элементы, которые больше среднего арифметического значения: [51, 66, 67, 85]\n"
     ]
    }
   ],
   "source": [
    "import random\n",
    "size_array = 10\n",
    "random_array = [random.randint(1, 100) for _ in range(size_array)]\n",
    "random_array.sort()\n",
    "average_array = np.mean(random_array)\n",
    "\n",
    "more_average = []\n",
    "i = 0\n",
    "for i in range(size_array):\n",
    "    if random_array[i] > average_array:\n",
    "        more_average.append(random_array[i])\n",
    "\n",
    "more_average.sort()\n",
    "\n",
    "print(f\"Сгенерированный массив случайных положительных чисел:\", random_array)\n",
    "print(f\"Среднее арифметическое значение:\", average_array)\n",
    "print(f\"Элементы, которые больше среднего арифметического значения:\", more_average)"
   ]
  },
  {
   "cell_type": "markdown",
   "metadata": {
    "id": "Mst7phpH-gRv"
   },
   "source": [
    "**Задача 2**\\\n",
    "Сгенерировать массив из 20 случайных элементов, элементы которого лежат в интервале [0, 10].\n",
    "+ Определить количество элементов, отличающихся от минимального на 5.\n",
    "+ Найти среднее арифметическое всех четных элементов массива, стоящих на нечетных местах."
   ]
  },
  {
   "cell_type": "code",
   "execution_count": 6,
   "metadata": {},
   "outputs": [
    {
     "name": "stdout",
     "output_type": "stream",
     "text": [
      "Минимальное элемент в массиве: 1\n",
      "Все элементы в массиве: [1, 1, 1, 1, 2, 3, 3, 3, 3, 4, 4, 5, 5, 5, 5, 6, 9, 10, 10, 10]\n",
      "Количество элементов, отличающихся от минимального на 5: 1\n",
      "Все четные элементы массива, стоящие на нечетных местах: [4, 6, 10, 10]\n",
      "Cреднее арифметическое всех четных элементов массива, стоящих на нечетных местах: 7.5\n"
     ]
    }
   ],
   "source": [
    "array_size = 20\n",
    "array_random = [random.randint(0, 10) for _ in range(array_size)]\n",
    "array_random.sort()\n",
    "min_array = np.min(array_random)\n",
    "\n",
    "min_diff_array = []\n",
    "j = 0\n",
    "crit = min_array + 5\n",
    "for j in range(len(array_random)):\n",
    "    if array_random[j] == crit:\n",
    "        min_diff_array.append(array_random[j])\n",
    "\n",
    "min_diff_array_count = len(min_diff_array)\n",
    "\n",
    "a = 0\n",
    "even_array = []\n",
    "for a in range(len(array_random)):\n",
    "    if a % 2 != 0 and array_random[a] % 2== 0:\n",
    "        even_array.append(array_random[a])\n",
    "\n",
    "average_even_array = np.mean(even_array)\n",
    "\n",
    "print(f\"Минимальное элемент в массиве:\", min_array)\n",
    "print(f\"Все элементы в массиве:\", array_random)\n",
    "print(f\"Количество элементов, отличающихся от минимального на 5:\", min_diff_array_count)\n",
    "print(f\"Все четные элементы массива, стоящие на нечетных местах:\", even_array)\n",
    "print(f\"Cреднее арифметическое всех четных элементов массива, стоящих на нечетных местах:\", average_even_array)"
   ]
  },
  {
   "cell_type": "markdown",
   "metadata": {
    "id": "JqjshV81-iSg"
   },
   "source": [
    "**Задача 3**\\\n",
    "Сгенерировать матрицу A размером 5 на 5, элементы которой лежат в интервале [1, 10].\n",
    "+ Возвести в квадрат максимальный элемент матрицы.\n",
    "+ Все четные числа заменить на 0."
   ]
  },
  {
   "cell_type": "code",
   "execution_count": 8,
   "metadata": {},
   "outputs": [
    {
     "name": "stdout",
     "output_type": "stream",
     "text": [
      "Сгенерированная матрица: \n",
      " [[5 6 6 1 8]\n",
      " [9 3 7 7 4]\n",
      " [6 6 3 8 5]\n",
      " [2 3 4 1 6]\n",
      " [6 1 5 3 6]]\n",
      "Максимальный элемент матрицы в квадрате: 81\n",
      "Матрица, где все четные числа заменены на 0: \n",
      " [[5 0 0 1 0]\n",
      " [9 3 7 7 0]\n",
      " [0 0 3 0 5]\n",
      " [0 3 0 1 0]\n",
      " [0 1 5 3 0]]\n"
     ]
    }
   ],
   "source": [
    "random_matrix = np.random.randint(1,10,(5,5))\n",
    "\n",
    "max_elements_row = []\n",
    "row = 0\n",
    "ele = 0\n",
    "for row in range(5):\n",
    "    max_elements_row.append(np.max(random_matrix[row]))\n",
    "    max_element = (np.max(max_elements_row)) ** 2\n",
    "\n",
    "print(f\"Сгенерированная матрица: \\n\", random_matrix)\n",
    "print(f\"Максимальный элемент матрицы в квадрате:\", max_element)\n",
    "\n",
    "rows = 0\n",
    "elem = 0\n",
    "for rows in range(5):\n",
    "    for elem in range(5):\n",
    "        if random_matrix[rows][elem] % 2 == 0:\n",
    "            random_matrix[rows][elem] = 0\n",
    "\n",
    "print(f\"Матрица, где все четные числа заменены на 0: \\n\", random_matrix)"
   ]
  },
  {
   "cell_type": "markdown",
   "metadata": {
    "id": "CmH-d_86-mFS"
   },
   "source": [
    "**Задача 4**\\\n",
    "Сгенерировать матрицу B размером 5 на 5, элементы которой лежат в интервале [-5, 5]. Отрицательные элементы матрицы заменить на число отрицательных элементов в строке, в которой они находятся."
   ]
  },
  {
   "cell_type": "code",
   "execution_count": 10,
   "metadata": {},
   "outputs": [
    {
     "name": "stdout",
     "output_type": "stream",
     "text": [
      "Сгенерированная матрица: \n",
      " [[ 0 -3  3 -3  2]\n",
      " [ 2 -3 -2 -1 -2]\n",
      " [-3 -4  4 -2 -3]\n",
      " [ 1 -1 -1 -4 -2]\n",
      " [-2 -3  2  1  0]]\n",
      "Количество отрицательных элементов в каждой строке матрицы: [2, 4, 4, 4, 2]\n",
      "Итоговый результат: \n",
      " [[0 2 3 2 2]\n",
      " [2 4 4 4 4]\n",
      " [4 4 4 4 4]\n",
      " [1 4 4 4 4]\n",
      " [2 2 2 1 0]]\n"
     ]
    }
   ],
   "source": [
    "matrix_random = np.random.randint(-5,5,(5,5))\n",
    "print(f\"Сгенерированная матрица: \\n\", matrix_random)\n",
    "rows = 0\n",
    "elem = 0\n",
    "\n",
    "negative = []\n",
    "for rows in range(5):\n",
    "    negative_for_row = []\n",
    "    for elem in range(5):\n",
    "        if matrix_random[rows][elem] < 0:\n",
    "            negative_for_row.append(matrix_random[rows][elem])\n",
    "    negative.append(len(negative_for_row))\n",
    "\n",
    "for rows in range(5):\n",
    "    for elem in range(5):\n",
    "        if matrix_random[rows][elem] < 0:\n",
    "            matrix_random[rows][elem] = negative[rows]\n",
    "\n",
    "print(f\"Количество отрицательных элементов в каждой строке матрицы:\", negative)\n",
    "print(f\"Итоговый результат: \\n\", matrix_random)"
   ]
  },
  {
   "cell_type": "markdown",
   "metadata": {
    "id": "v37bUhDL-P0e"
   },
   "source": [
    "# Pandas"
   ]
  },
  {
   "cell_type": "code",
   "execution_count": 12,
   "metadata": {
    "executionInfo": {
     "elapsed": 204,
     "status": "ok",
     "timestamp": 1739947868599,
     "user": {
      "displayName": "Екатерина Глазунова",
      "userId": "00980401327405697360"
     },
     "user_tz": -180
    },
    "id": "S7fCa_Th-UzD"
   },
   "outputs": [
    {
     "data": {
      "text/html": [
       "<div>\n",
       "<style scoped>\n",
       "    .dataframe tbody tr th:only-of-type {\n",
       "        vertical-align: middle;\n",
       "    }\n",
       "\n",
       "    .dataframe tbody tr th {\n",
       "        vertical-align: top;\n",
       "    }\n",
       "\n",
       "    .dataframe thead th {\n",
       "        text-align: right;\n",
       "    }\n",
       "</style>\n",
       "<table border=\"1\" class=\"dataframe\">\n",
       "  <thead>\n",
       "    <tr style=\"text-align: right;\">\n",
       "      <th></th>\n",
       "      <th>pclass</th>\n",
       "      <th>survived</th>\n",
       "      <th>name</th>\n",
       "      <th>sex</th>\n",
       "      <th>age</th>\n",
       "      <th>sibsp</th>\n",
       "      <th>parch</th>\n",
       "      <th>ticket</th>\n",
       "      <th>fare</th>\n",
       "      <th>cabin</th>\n",
       "      <th>embarked</th>\n",
       "      <th>boat</th>\n",
       "      <th>body</th>\n",
       "      <th>home.dest</th>\n",
       "    </tr>\n",
       "  </thead>\n",
       "  <tbody>\n",
       "    <tr>\n",
       "      <th>0</th>\n",
       "      <td>1</td>\n",
       "      <td>1</td>\n",
       "      <td>Allen, Miss. Elisabeth Walton</td>\n",
       "      <td>female</td>\n",
       "      <td>29.0</td>\n",
       "      <td>0</td>\n",
       "      <td>0</td>\n",
       "      <td>24160</td>\n",
       "      <td>211.3375</td>\n",
       "      <td>B5</td>\n",
       "      <td>S</td>\n",
       "      <td>2</td>\n",
       "      <td>NaN</td>\n",
       "      <td>St Louis, MO</td>\n",
       "    </tr>\n",
       "  </tbody>\n",
       "</table>\n",
       "</div>"
      ],
      "text/plain": [
       "   pclass  survived                           name     sex   age  sibsp  \\\n",
       "0       1         1  Allen, Miss. Elisabeth Walton  female  29.0      0   \n",
       "\n",
       "   parch ticket      fare cabin embarked boat  body     home.dest  \n",
       "0      0  24160  211.3375    B5        S    2   NaN  St Louis, MO  "
      ]
     },
     "execution_count": 12,
     "metadata": {},
     "output_type": "execute_result"
    }
   ],
   "source": [
    "df = pd.read_csv(\"https://raw.githubusercontent.com/rolandmueller/titanic/main/titanic3.csv\")\n",
    "df.head(1)"
   ]
  },
  {
   "cell_type": "markdown",
   "metadata": {},
   "source": [
    "Pclass — класс пассажира (1 — высший, 2 — средний, 3 — низший); </br>\n",
    "Name — имя; </br>\n",
    "Sex — пол; </br>\n",
    "Age — возраст; </br>\n",
    "SibSp — количество братьев, сестёр, сводных братьев, сводных сестёр, супругов на борту «Титаника»; </br>\n",
    "Parch — количество родителей, детей (в том числе приёмных) на борту «Титаника»; </br>\n",
    "Ticket — номер билета; </br>\n",
    "Fare — плата за проезд; </br>\n",
    "Cabin — каюта; </br>\n",
    "Embarked — порт посадки (C — Шербур; Q — Квинстаун; S — Саутгемптон). </br>"
   ]
  },
  {
   "cell_type": "markdown",
   "metadata": {
    "id": "foLOzXST92Yc"
   },
   "source": [
    "**Задание 1**\n",
    "+ Какой была максимальная цена билета? Медиана?\n",
    "+ Какова доля выживших?\n",
    "+ Сколько мужчин / женщин находилось на борту?"
   ]
  },
  {
   "cell_type": "code",
   "execution_count": 15,
   "metadata": {},
   "outputs": [
    {
     "name": "stdout",
     "output_type": "stream",
     "text": [
      "Максимальная цена билета: 512.3292\n",
      "Медианная цена билета: 14.4542\n"
     ]
    }
   ],
   "source": [
    "print(f\"Максимальная цена билета:\", df['fare'].max())\n",
    "print(f\"Медианная цена билета:\", df['fare'].median())"
   ]
  },
  {
   "cell_type": "code",
   "execution_count": 16,
   "metadata": {},
   "outputs": [
    {
     "name": "stdout",
     "output_type": "stream",
     "text": [
      "Доля выживших 38.2 %\n"
     ]
    }
   ],
   "source": [
    "print(f\"Доля выживших\", (df['survived'].sum() / df['survived'].count() * 100).round(2), '%')"
   ]
  },
  {
   "cell_type": "code",
   "execution_count": 17,
   "metadata": {},
   "outputs": [
    {
     "name": "stdout",
     "output_type": "stream",
     "text": [
      "Количество женщин на борту: 466\n",
      "Количество мужчин на борту: 843\n"
     ]
    }
   ],
   "source": [
    "print(f\"Количество женщин на борту:\", df.query('sex == \"female\"')['sex'].count())\n",
    "print(f\"Количество мужчин на борту:\", df.query('sex == \"male\"')['sex'].count())"
   ]
  },
  {
   "cell_type": "markdown",
   "metadata": {
    "id": "coYGqVML92Ye"
   },
   "source": [
    "**Задание 2**\n",
    "+ Выведите распределение переменной __pclass__ для мужчин и женщин.\n",
    "    + Сколько мужчин было в первом классе?\n",
    "    + Сколько женщин было в третьем классе?\n",
    "      \n",
    "+ Создайте новый признак __age_group__, который равен:\n",
    "    + 1, если пассажир был моложе 30 лет;\n",
    "    + 2, если пассажиру было от 30 до 60 лет;\n",
    "    + 3, если пассажир был старше 60 лет."
   ]
  },
  {
   "cell_type": "code",
   "execution_count": 19,
   "metadata": {},
   "outputs": [
    {
     "data": {
      "image/png": "[encoded data removed]",
      "text/plain": [
       "<Figure size 1200x600 with 1 Axes>"
      ]
     },
     "metadata": {},
     "output_type": "display_data"
    }
   ],
   "source": [
    "sns.set_theme(style=\"darkgrid\", font_scale=1.2, palette='magma')\n",
    "\n",
    "destr = sns.countplot(data=df, x='pclass', hue='sex')\n",
    "plt.title(f\"Распределение переменной pclass для мужчин и женщи\", fontsize=16, color='#1d0033', weight='bold')  \n",
    "destr.set_xlabel('Класс')\n",
    "destr.set_ylabel('Количество человек')\n",
    "plt.show()"
   ]
  },
  {
   "cell_type": "code",
   "execution_count": 20,
   "metadata": {},
   "outputs": [
    {
     "name": "stdout",
     "output_type": "stream",
     "text": [
      "Распределение переменной pclass для мужчин и женщин:\n",
      "Мужчин в первом классе: 179\n",
      "Женщин в третьем классе: 216\n"
     ]
    },
    {
     "data": {
      "text/html": [
       "<div>\n",
       "<style scoped>\n",
       "    .dataframe tbody tr th:only-of-type {\n",
       "        vertical-align: middle;\n",
       "    }\n",
       "\n",
       "    .dataframe tbody tr th {\n",
       "        vertical-align: top;\n",
       "    }\n",
       "\n",
       "    .dataframe thead th {\n",
       "        text-align: right;\n",
       "    }\n",
       "</style>\n",
       "<table border=\"1\" class=\"dataframe\">\n",
       "  <thead>\n",
       "    <tr style=\"text-align: right;\">\n",
       "      <th>pclass</th>\n",
       "      <th>1</th>\n",
       "      <th>2</th>\n",
       "      <th>3</th>\n",
       "    </tr>\n",
       "    <tr>\n",
       "      <th>sex</th>\n",
       "      <th></th>\n",
       "      <th></th>\n",
       "      <th></th>\n",
       "    </tr>\n",
       "  </thead>\n",
       "  <tbody>\n",
       "    <tr>\n",
       "      <th>female</th>\n",
       "      <td>144</td>\n",
       "      <td>106</td>\n",
       "      <td>216</td>\n",
       "    </tr>\n",
       "    <tr>\n",
       "      <th>male</th>\n",
       "      <td>179</td>\n",
       "      <td>171</td>\n",
       "      <td>493</td>\n",
       "    </tr>\n",
       "  </tbody>\n",
       "</table>\n",
       "</div>"
      ],
      "text/plain": [
       "pclass    1    2    3\n",
       "sex                  \n",
       "female  144  106  216\n",
       "male    179  171  493"
      ]
     },
     "execution_count": 20,
     "metadata": {},
     "output_type": "execute_result"
    }
   ],
   "source": [
    "distribution = df.groupby(['sex', 'pclass']).size().unstack(fill_value=0)\n",
    "\n",
    "print(\"Распределение переменной pclass для мужчин и женщин:\")\n",
    "print(f'Мужчин в первом классе: 179')\n",
    "print(f'Женщин в третьем классе: 216')\n",
    "distribution"
   ]
  },
  {
   "cell_type": "code",
   "execution_count": 21,
   "metadata": {},
   "outputs": [
    {
     "data": {
      "text/html": [
       "<div>\n",
       "<style scoped>\n",
       "    .dataframe tbody tr th:only-of-type {\n",
       "        vertical-align: middle;\n",
       "    }\n",
       "\n",
       "    .dataframe tbody tr th {\n",
       "        vertical-align: top;\n",
       "    }\n",
       "\n",
       "    .dataframe thead th {\n",
       "        text-align: right;\n",
       "    }\n",
       "</style>\n",
       "<table border=\"1\" class=\"dataframe\">\n",
       "  <thead>\n",
       "    <tr style=\"text-align: right;\">\n",
       "      <th></th>\n",
       "      <th>pclass</th>\n",
       "      <th>survived</th>\n",
       "      <th>name</th>\n",
       "      <th>sex</th>\n",
       "      <th>age</th>\n",
       "      <th>sibsp</th>\n",
       "      <th>parch</th>\n",
       "      <th>ticket</th>\n",
       "      <th>fare</th>\n",
       "      <th>cabin</th>\n",
       "      <th>embarked</th>\n",
       "      <th>boat</th>\n",
       "      <th>body</th>\n",
       "      <th>home.dest</th>\n",
       "      <th>age_group</th>\n",
       "    </tr>\n",
       "  </thead>\n",
       "  <tbody>\n",
       "    <tr>\n",
       "      <th>0</th>\n",
       "      <td>1</td>\n",
       "      <td>1</td>\n",
       "      <td>Allen, Miss. Elisabeth Walton</td>\n",
       "      <td>female</td>\n",
       "      <td>29.0</td>\n",
       "      <td>0</td>\n",
       "      <td>0</td>\n",
       "      <td>24160</td>\n",
       "      <td>211.3375</td>\n",
       "      <td>B5</td>\n",
       "      <td>S</td>\n",
       "      <td>2</td>\n",
       "      <td>NaN</td>\n",
       "      <td>St Louis, MO</td>\n",
       "      <td>1.0</td>\n",
       "    </tr>\n",
       "  </tbody>\n",
       "</table>\n",
       "</div>"
      ],
      "text/plain": [
       "   pclass  survived                           name     sex   age  sibsp  \\\n",
       "0       1         1  Allen, Miss. Elisabeth Walton  female  29.0      0   \n",
       "\n",
       "   parch ticket      fare cabin embarked boat  body     home.dest  age_group  \n",
       "0      0  24160  211.3375    B5        S    2   NaN  St Louis, MO        1.0  "
      ]
     },
     "execution_count": 21,
     "metadata": {},
     "output_type": "execute_result"
    }
   ],
   "source": [
    "def age_group(age):\n",
    "    \n",
    "    if age <= 30:\n",
    "        return 1\n",
    "    elif 30 < age <= 60:\n",
    "        return 2 \n",
    "    elif 60 < age:\n",
    "        return 3\n",
    "    else:\n",
    "        return np.nan\n",
    "\n",
    "df['age_group'] = df['age'].apply(age_group)\n",
    "df.head(1)"
   ]
  },
  {
   "cell_type": "markdown",
   "metadata": {
    "id": "uyYMPpyX92Yf"
   },
   "source": [
    "**Задание 3**\\\n",
    "Найдите самое популярное имя среди пассажиров:\n",
    "+ мужчин;\n",
    "+ женщин."
   ]
  },
  {
   "cell_type": "code",
   "execution_count": 23,
   "metadata": {},
   "outputs": [
    {
     "data": {
      "text/html": [
       "<div>\n",
       "<style scoped>\n",
       "    .dataframe tbody tr th:only-of-type {\n",
       "        vertical-align: middle;\n",
       "    }\n",
       "\n",
       "    .dataframe tbody tr th {\n",
       "        vertical-align: top;\n",
       "    }\n",
       "\n",
       "    .dataframe thead th {\n",
       "        text-align: right;\n",
       "    }\n",
       "</style>\n",
       "<table border=\"1\" class=\"dataframe\">\n",
       "  <thead>\n",
       "    <tr style=\"text-align: right;\">\n",
       "      <th></th>\n",
       "      <th>pclass</th>\n",
       "      <th>survived</th>\n",
       "      <th>name</th>\n",
       "      <th>sex</th>\n",
       "      <th>age</th>\n",
       "      <th>sibsp</th>\n",
       "      <th>parch</th>\n",
       "      <th>ticket</th>\n",
       "      <th>fare</th>\n",
       "      <th>cabin</th>\n",
       "      <th>embarked</th>\n",
       "      <th>boat</th>\n",
       "      <th>body</th>\n",
       "      <th>home.dest</th>\n",
       "      <th>age_group</th>\n",
       "      <th>first_name</th>\n",
       "    </tr>\n",
       "  </thead>\n",
       "  <tbody>\n",
       "    <tr>\n",
       "      <th>0</th>\n",
       "      <td>1</td>\n",
       "      <td>1</td>\n",
       "      <td>Allen, Miss. Elisabeth Walton</td>\n",
       "      <td>female</td>\n",
       "      <td>29.0</td>\n",
       "      <td>0</td>\n",
       "      <td>0</td>\n",
       "      <td>24160</td>\n",
       "      <td>211.3375</td>\n",
       "      <td>B5</td>\n",
       "      <td>S</td>\n",
       "      <td>2</td>\n",
       "      <td>NaN</td>\n",
       "      <td>St Louis, MO</td>\n",
       "      <td>1.0</td>\n",
       "      <td>Elisabeth</td>\n",
       "    </tr>\n",
       "  </tbody>\n",
       "</table>\n",
       "</div>"
      ],
      "text/plain": [
       "   pclass  survived                           name     sex   age  sibsp  \\\n",
       "0       1         1  Allen, Miss. Elisabeth Walton  female  29.0      0   \n",
       "\n",
       "   parch ticket      fare cabin embarked boat  body     home.dest  age_group  \\\n",
       "0      0  24160  211.3375    B5        S    2   NaN  St Louis, MO        1.0   \n",
       "\n",
       "  first_name  \n",
       "0  Elisabeth  "
      ]
     },
     "execution_count": 23,
     "metadata": {},
     "output_type": "execute_result"
    }
   ],
   "source": [
    "import re\n",
    "def first_name_find(first_name):\n",
    "    brackets = re.search(r'\\((\\w+)', first_name)\n",
    "    if brackets:\n",
    "        return brackets.group(1)\n",
    "        \n",
    "    dot = re.search(r'\\.\\s*([A-Za-z]+)', first_name)\n",
    "    if dot:\n",
    "        return dot.group(1)\n",
    "    \n",
    "    return None\n",
    "\n",
    "df['first_name'] = df['name'].apply(first_name_find)\n",
    "df.head(1)"
   ]
  },
  {
   "cell_type": "code",
   "execution_count": 24,
   "metadata": {},
   "outputs": [
    {
     "name": "stdout",
     "output_type": "stream",
     "text": [
      "Самое популярное имя среди мужчин: William\n",
      "Самое популярное имя среди женщин: Mary\n"
     ]
    }
   ],
   "source": [
    "male_first_name = df[df['sex'] == 'male']['first_name']\n",
    "female_first_name = df[df['sex'] == 'female']['first_name']\n",
    "\n",
    "popular_male_first_name = male_first_name.value_counts().idxmax()\n",
    "popular_female_first_name = female_first_name.value_counts().idxmax()\n",
    "\n",
    "print(f\"Самое популярное имя среди мужчин:\", popular_male_first_name)\n",
    "print(f\"Самое популярное имя среди женщин:\", popular_female_first_name)"
   ]
  },
  {
   "cell_type": "markdown",
   "metadata": {
    "id": "b97bzlSF92Yg",
    "tags": []
   },
   "source": [
    "**Задание 4**\n",
    "+ Выведите данные о всех пассажирах, которые сели в Cherbourg (Embarked='C') и были старше 50 лет.\n",
    "+ Выведите данные о всех женщинах младше 20 и старше 50 лет.\n",
    "+ Сколько пассажиров старше 70 лет было на борту?"
   ]
  },
  {
   "cell_type": "code",
   "execution_count": 26,
   "metadata": {},
   "outputs": [
    {
     "data": {
      "text/html": [
       "<div>\n",
       "<style scoped>\n",
       "    .dataframe tbody tr th:only-of-type {\n",
       "        vertical-align: middle;\n",
       "    }\n",
       "\n",
       "    .dataframe tbody tr th {\n",
       "        vertical-align: top;\n",
       "    }\n",
       "\n",
       "    .dataframe thead th {\n",
       "        text-align: right;\n",
       "    }\n",
       "</style>\n",
       "<table border=\"1\" class=\"dataframe\">\n",
       "  <thead>\n",
       "    <tr style=\"text-align: right;\">\n",
       "      <th></th>\n",
       "      <th>pclass</th>\n",
       "      <th>survived</th>\n",
       "      <th>name</th>\n",
       "      <th>sex</th>\n",
       "      <th>age</th>\n",
       "      <th>sibsp</th>\n",
       "      <th>parch</th>\n",
       "      <th>ticket</th>\n",
       "      <th>fare</th>\n",
       "      <th>cabin</th>\n",
       "      <th>embarked</th>\n",
       "      <th>boat</th>\n",
       "      <th>body</th>\n",
       "      <th>home.dest</th>\n",
       "      <th>age_group</th>\n",
       "      <th>first_name</th>\n",
       "    </tr>\n",
       "  </thead>\n",
       "  <tbody>\n",
       "    <tr>\n",
       "      <th>17</th>\n",
       "      <td>1</td>\n",
       "      <td>1</td>\n",
       "      <td>Baxter, Mrs. James (Helene DeLaudeniere Chaput)</td>\n",
       "      <td>female</td>\n",
       "      <td>50.0</td>\n",
       "      <td>0</td>\n",
       "      <td>1</td>\n",
       "      <td>PC 17558</td>\n",
       "      <td>247.5208</td>\n",
       "      <td>B58 B60</td>\n",
       "      <td>C</td>\n",
       "      <td>6</td>\n",
       "      <td>NaN</td>\n",
       "      <td>Montreal, PQ</td>\n",
       "      <td>2.0</td>\n",
       "      <td>Helene</td>\n",
       "    </tr>\n",
       "    <tr>\n",
       "      <th>96</th>\n",
       "      <td>1</td>\n",
       "      <td>0</td>\n",
       "      <td>Douglas, Mr. Walter Donald</td>\n",
       "      <td>male</td>\n",
       "      <td>50.0</td>\n",
       "      <td>1</td>\n",
       "      <td>0</td>\n",
       "      <td>PC 17761</td>\n",
       "      <td>106.4250</td>\n",
       "      <td>C86</td>\n",
       "      <td>C</td>\n",
       "      <td>NaN</td>\n",
       "      <td>62.0</td>\n",
       "      <td>Deephaven, MN / Cedar Rapids, IA</td>\n",
       "      <td>2.0</td>\n",
       "      <td>Walter</td>\n",
       "    </tr>\n",
       "    <tr>\n",
       "      <th>169</th>\n",
       "      <td>1</td>\n",
       "      <td>0</td>\n",
       "      <td>Isham, Miss. Ann Elizabeth</td>\n",
       "      <td>female</td>\n",
       "      <td>50.0</td>\n",
       "      <td>0</td>\n",
       "      <td>0</td>\n",
       "      <td>PC 17595</td>\n",
       "      <td>28.7125</td>\n",
       "      <td>C49</td>\n",
       "      <td>C</td>\n",
       "      <td>NaN</td>\n",
       "      <td>NaN</td>\n",
       "      <td>Paris, France New York, NY</td>\n",
       "      <td>2.0</td>\n",
       "      <td>Ann</td>\n",
       "    </tr>\n",
       "    <tr>\n",
       "      <th>312</th>\n",
       "      <td>1</td>\n",
       "      <td>0</td>\n",
       "      <td>Widener, Mr. George Dunton</td>\n",
       "      <td>male</td>\n",
       "      <td>50.0</td>\n",
       "      <td>1</td>\n",
       "      <td>1</td>\n",
       "      <td>113503</td>\n",
       "      <td>211.5000</td>\n",
       "      <td>C80</td>\n",
       "      <td>C</td>\n",
       "      <td>NaN</td>\n",
       "      <td>NaN</td>\n",
       "      <td>Elkins Park, PA</td>\n",
       "      <td>2.0</td>\n",
       "      <td>George</td>\n",
       "    </tr>\n",
       "    <tr>\n",
       "      <th>314</th>\n",
       "      <td>1</td>\n",
       "      <td>1</td>\n",
       "      <td>Widener, Mrs. George Dunton (Eleanor Elkins)</td>\n",
       "      <td>female</td>\n",
       "      <td>50.0</td>\n",
       "      <td>1</td>\n",
       "      <td>1</td>\n",
       "      <td>113503</td>\n",
       "      <td>211.5000</td>\n",
       "      <td>C80</td>\n",
       "      <td>C</td>\n",
       "      <td>4</td>\n",
       "      <td>NaN</td>\n",
       "      <td>Elkins Park, PA</td>\n",
       "      <td>2.0</td>\n",
       "      <td>Eleanor</td>\n",
       "    </tr>\n",
       "  </tbody>\n",
       "</table>\n",
       "</div>"
      ],
      "text/plain": [
       "     pclass  survived                                             name  \\\n",
       "17        1         1  Baxter, Mrs. James (Helene DeLaudeniere Chaput)   \n",
       "96        1         0                       Douglas, Mr. Walter Donald   \n",
       "169       1         0                       Isham, Miss. Ann Elizabeth   \n",
       "312       1         0                       Widener, Mr. George Dunton   \n",
       "314       1         1     Widener, Mrs. George Dunton (Eleanor Elkins)   \n",
       "\n",
       "        sex   age  sibsp  parch    ticket      fare    cabin embarked boat  \\\n",
       "17   female  50.0      0      1  PC 17558  247.5208  B58 B60        C    6   \n",
       "96     male  50.0      1      0  PC 17761  106.4250      C86        C  NaN   \n",
       "169  female  50.0      0      0  PC 17595   28.7125      C49        C  NaN   \n",
       "312    male  50.0      1      1    113503  211.5000      C80        C  NaN   \n",
       "314  female  50.0      1      1    113503  211.5000      C80        C    4   \n",
       "\n",
       "     body                         home.dest  age_group first_name  \n",
       "17    NaN                      Montreal, PQ        2.0     Helene  \n",
       "96   62.0  Deephaven, MN / Cedar Rapids, IA        2.0     Walter  \n",
       "169   NaN        Paris, France New York, NY        2.0        Ann  \n",
       "312   NaN                   Elkins Park, PA        2.0     George  \n",
       "314   NaN                   Elkins Park, PA        2.0    Eleanor  "
      ]
     },
     "execution_count": 26,
     "metadata": {},
     "output_type": "execute_result"
    }
   ],
   "source": [
    "df_c_50 = df.query('embarked == \"C\" and age == 50')\n",
    "df_c_50"
   ]
  },
  {
   "cell_type": "code",
   "execution_count": 27,
   "metadata": {},
   "outputs": [
    {
     "data": {
      "text/html": [
       "<div>\n",
       "<style scoped>\n",
       "    .dataframe tbody tr th:only-of-type {\n",
       "        vertical-align: middle;\n",
       "    }\n",
       "\n",
       "    .dataframe tbody tr th {\n",
       "        vertical-align: top;\n",
       "    }\n",
       "\n",
       "    .dataframe thead th {\n",
       "        text-align: right;\n",
       "    }\n",
       "</style>\n",
       "<table border=\"1\" class=\"dataframe\">\n",
       "  <thead>\n",
       "    <tr style=\"text-align: right;\">\n",
       "      <th></th>\n",
       "      <th>pclass</th>\n",
       "      <th>survived</th>\n",
       "      <th>name</th>\n",
       "      <th>sex</th>\n",
       "      <th>age</th>\n",
       "      <th>sibsp</th>\n",
       "      <th>parch</th>\n",
       "      <th>ticket</th>\n",
       "      <th>fare</th>\n",
       "      <th>cabin</th>\n",
       "      <th>embarked</th>\n",
       "      <th>boat</th>\n",
       "      <th>body</th>\n",
       "      <th>home.dest</th>\n",
       "      <th>age_group</th>\n",
       "      <th>first_name</th>\n",
       "    </tr>\n",
       "  </thead>\n",
       "  <tbody>\n",
       "    <tr>\n",
       "      <th>2</th>\n",
       "      <td>1</td>\n",
       "      <td>0</td>\n",
       "      <td>Allison, Miss. Helen Loraine</td>\n",
       "      <td>female</td>\n",
       "      <td>2.0</td>\n",
       "      <td>1</td>\n",
       "      <td>2</td>\n",
       "      <td>113781</td>\n",
       "      <td>151.5500</td>\n",
       "      <td>C22 C26</td>\n",
       "      <td>S</td>\n",
       "      <td>NaN</td>\n",
       "      <td>NaN</td>\n",
       "      <td>Montreal, PQ / Chesterville, ON</td>\n",
       "      <td>1.0</td>\n",
       "      <td>Helen</td>\n",
       "    </tr>\n",
       "    <tr>\n",
       "      <th>6</th>\n",
       "      <td>1</td>\n",
       "      <td>1</td>\n",
       "      <td>Andrews, Miss. Kornelia Theodosia</td>\n",
       "      <td>female</td>\n",
       "      <td>63.0</td>\n",
       "      <td>1</td>\n",
       "      <td>0</td>\n",
       "      <td>13502</td>\n",
       "      <td>77.9583</td>\n",
       "      <td>D7</td>\n",
       "      <td>S</td>\n",
       "      <td>10</td>\n",
       "      <td>NaN</td>\n",
       "      <td>Hudson, NY</td>\n",
       "      <td>3.0</td>\n",
       "      <td>Kornelia</td>\n",
       "    </tr>\n",
       "    <tr>\n",
       "      <th>8</th>\n",
       "      <td>1</td>\n",
       "      <td>1</td>\n",
       "      <td>Appleton, Mrs. Edward Dale (Charlotte Lamson)</td>\n",
       "      <td>female</td>\n",
       "      <td>53.0</td>\n",
       "      <td>2</td>\n",
       "      <td>0</td>\n",
       "      <td>11769</td>\n",
       "      <td>51.4792</td>\n",
       "      <td>C101</td>\n",
       "      <td>S</td>\n",
       "      <td>D</td>\n",
       "      <td>NaN</td>\n",
       "      <td>Bayside, Queens, NY</td>\n",
       "      <td>2.0</td>\n",
       "      <td>Charlotte</td>\n",
       "    </tr>\n",
       "    <tr>\n",
       "      <th>11</th>\n",
       "      <td>1</td>\n",
       "      <td>1</td>\n",
       "      <td>Astor, Mrs. John Jacob (Madeleine Talmadge Force)</td>\n",
       "      <td>female</td>\n",
       "      <td>18.0</td>\n",
       "      <td>1</td>\n",
       "      <td>0</td>\n",
       "      <td>PC 17757</td>\n",
       "      <td>227.5250</td>\n",
       "      <td>C62 C64</td>\n",
       "      <td>C</td>\n",
       "      <td>4</td>\n",
       "      <td>NaN</td>\n",
       "      <td>New York, NY</td>\n",
       "      <td>1.0</td>\n",
       "      <td>Madeleine</td>\n",
       "    </tr>\n",
       "    <tr>\n",
       "      <th>27</th>\n",
       "      <td>1</td>\n",
       "      <td>1</td>\n",
       "      <td>Bishop, Mrs. Dickinson H (Helen Walton)</td>\n",
       "      <td>female</td>\n",
       "      <td>19.0</td>\n",
       "      <td>1</td>\n",
       "      <td>0</td>\n",
       "      <td>11967</td>\n",
       "      <td>91.0792</td>\n",
       "      <td>B49</td>\n",
       "      <td>C</td>\n",
       "      <td>7</td>\n",
       "      <td>NaN</td>\n",
       "      <td>Dowagiac, MI</td>\n",
       "      <td>1.0</td>\n",
       "      <td>Helen</td>\n",
       "    </tr>\n",
       "    <tr>\n",
       "      <th>...</th>\n",
       "      <td>...</td>\n",
       "      <td>...</td>\n",
       "      <td>...</td>\n",
       "      <td>...</td>\n",
       "      <td>...</td>\n",
       "      <td>...</td>\n",
       "      <td>...</td>\n",
       "      <td>...</td>\n",
       "      <td>...</td>\n",
       "      <td>...</td>\n",
       "      <td>...</td>\n",
       "      <td>...</td>\n",
       "      <td>...</td>\n",
       "      <td>...</td>\n",
       "      <td>...</td>\n",
       "      <td>...</td>\n",
       "    </tr>\n",
       "    <tr>\n",
       "      <th>1265</th>\n",
       "      <td>3</td>\n",
       "      <td>0</td>\n",
       "      <td>Van Impe, Miss. Catharina</td>\n",
       "      <td>female</td>\n",
       "      <td>10.0</td>\n",
       "      <td>0</td>\n",
       "      <td>2</td>\n",
       "      <td>345773</td>\n",
       "      <td>24.1500</td>\n",
       "      <td>NaN</td>\n",
       "      <td>S</td>\n",
       "      <td>NaN</td>\n",
       "      <td>NaN</td>\n",
       "      <td>NaN</td>\n",
       "      <td>1.0</td>\n",
       "      <td>Catharina</td>\n",
       "    </tr>\n",
       "    <tr>\n",
       "      <th>1273</th>\n",
       "      <td>3</td>\n",
       "      <td>0</td>\n",
       "      <td>Vander Planke, Miss. Augusta Maria</td>\n",
       "      <td>female</td>\n",
       "      <td>18.0</td>\n",
       "      <td>2</td>\n",
       "      <td>0</td>\n",
       "      <td>345764</td>\n",
       "      <td>18.0000</td>\n",
       "      <td>NaN</td>\n",
       "      <td>S</td>\n",
       "      <td>NaN</td>\n",
       "      <td>NaN</td>\n",
       "      <td>NaN</td>\n",
       "      <td>1.0</td>\n",
       "      <td>Augusta</td>\n",
       "    </tr>\n",
       "    <tr>\n",
       "      <th>1279</th>\n",
       "      <td>3</td>\n",
       "      <td>0</td>\n",
       "      <td>Vestrom, Miss. Hulda Amanda Adolfina</td>\n",
       "      <td>female</td>\n",
       "      <td>14.0</td>\n",
       "      <td>0</td>\n",
       "      <td>0</td>\n",
       "      <td>350406</td>\n",
       "      <td>7.8542</td>\n",
       "      <td>NaN</td>\n",
       "      <td>S</td>\n",
       "      <td>NaN</td>\n",
       "      <td>NaN</td>\n",
       "      <td>NaN</td>\n",
       "      <td>1.0</td>\n",
       "      <td>Hulda</td>\n",
       "    </tr>\n",
       "    <tr>\n",
       "      <th>1300</th>\n",
       "      <td>3</td>\n",
       "      <td>1</td>\n",
       "      <td>Yasbeck, Mrs. Antoni (Selini Alexander)</td>\n",
       "      <td>female</td>\n",
       "      <td>15.0</td>\n",
       "      <td>1</td>\n",
       "      <td>0</td>\n",
       "      <td>2659</td>\n",
       "      <td>14.4542</td>\n",
       "      <td>NaN</td>\n",
       "      <td>C</td>\n",
       "      <td>NaN</td>\n",
       "      <td>NaN</td>\n",
       "      <td>NaN</td>\n",
       "      <td>1.0</td>\n",
       "      <td>Selini</td>\n",
       "    </tr>\n",
       "    <tr>\n",
       "      <th>1304</th>\n",
       "      <td>3</td>\n",
       "      <td>0</td>\n",
       "      <td>Zabour, Miss. Hileni</td>\n",
       "      <td>female</td>\n",
       "      <td>14.5</td>\n",
       "      <td>1</td>\n",
       "      <td>0</td>\n",
       "      <td>2665</td>\n",
       "      <td>14.4542</td>\n",
       "      <td>NaN</td>\n",
       "      <td>C</td>\n",
       "      <td>NaN</td>\n",
       "      <td>328.0</td>\n",
       "      <td>NaN</td>\n",
       "      <td>1.0</td>\n",
       "      <td>Hileni</td>\n",
       "    </tr>\n",
       "  </tbody>\n",
       "</table>\n",
       "<p>135 rows × 16 columns</p>\n",
       "</div>"
      ],
      "text/plain": [
       "      pclass  survived                                               name  \\\n",
       "2          1         0                       Allison, Miss. Helen Loraine   \n",
       "6          1         1                  Andrews, Miss. Kornelia Theodosia   \n",
       "8          1         1      Appleton, Mrs. Edward Dale (Charlotte Lamson)   \n",
       "11         1         1  Astor, Mrs. John Jacob (Madeleine Talmadge Force)   \n",
       "27         1         1            Bishop, Mrs. Dickinson H (Helen Walton)   \n",
       "...      ...       ...                                                ...   \n",
       "1265       3         0                          Van Impe, Miss. Catharina   \n",
       "1273       3         0                 Vander Planke, Miss. Augusta Maria   \n",
       "1279       3         0               Vestrom, Miss. Hulda Amanda Adolfina   \n",
       "1300       3         1            Yasbeck, Mrs. Antoni (Selini Alexander)   \n",
       "1304       3         0                               Zabour, Miss. Hileni   \n",
       "\n",
       "         sex   age  sibsp  parch    ticket      fare    cabin embarked boat  \\\n",
       "2     female   2.0      1      2    113781  151.5500  C22 C26        S  NaN   \n",
       "6     female  63.0      1      0     13502   77.9583       D7        S   10   \n",
       "8     female  53.0      2      0     11769   51.4792     C101        S    D   \n",
       "11    female  18.0      1      0  PC 17757  227.5250  C62 C64        C    4   \n",
       "27    female  19.0      1      0     11967   91.0792      B49        C    7   \n",
       "...      ...   ...    ...    ...       ...       ...      ...      ...  ...   \n",
       "1265  female  10.0      0      2    345773   24.1500      NaN        S  NaN   \n",
       "1273  female  18.0      2      0    345764   18.0000      NaN        S  NaN   \n",
       "1279  female  14.0      0      0    350406    7.8542      NaN        S  NaN   \n",
       "1300  female  15.0      1      0      2659   14.4542      NaN        C  NaN   \n",
       "1304  female  14.5      1      0      2665   14.4542      NaN        C  NaN   \n",
       "\n",
       "       body                        home.dest  age_group first_name  \n",
       "2       NaN  Montreal, PQ / Chesterville, ON        1.0      Helen  \n",
       "6       NaN                       Hudson, NY        3.0   Kornelia  \n",
       "8       NaN              Bayside, Queens, NY        2.0  Charlotte  \n",
       "11      NaN                     New York, NY        1.0  Madeleine  \n",
       "27      NaN                     Dowagiac, MI        1.0      Helen  \n",
       "...     ...                              ...        ...        ...  \n",
       "1265    NaN                              NaN        1.0  Catharina  \n",
       "1273    NaN                              NaN        1.0    Augusta  \n",
       "1279    NaN                              NaN        1.0      Hulda  \n",
       "1300    NaN                              NaN        1.0     Selini  \n",
       "1304  328.0                              NaN        1.0     Hileni  \n",
       "\n",
       "[135 rows x 16 columns]"
      ]
     },
     "execution_count": 27,
     "metadata": {},
     "output_type": "execute_result"
    }
   ],
   "source": [
    "df_20_50 = df.query('sex == \"female\" and ( age < 20 or age > 50 ) ')\n",
    "df_20_50"
   ]
  },
  {
   "cell_type": "code",
   "execution_count": 28,
   "metadata": {},
   "outputs": [
    {
     "name": "stdout",
     "output_type": "stream",
     "text": [
      "Количество пассажиров на борту старше 70 лет: 8\n"
     ]
    }
   ],
   "source": [
    "df_under_70 = df.query('age >= 70')\n",
    "print(f\"Количество пассажиров на борту старше 70 лет:\", df_under_70['name'].count())"
   ]
  },
  {
   "cell_type": "markdown",
   "metadata": {
    "id": "Yt6UE4KS92Yk"
   },
   "source": [
    "**Задание 5**\n",
    "+ Посчитайте средний возраст среди мужчин и среди женщин.\n",
    "+ Посчитайте доли выживших в различных возрастных группах (новый признак **AgeGroup**).\n",
    "+ Найдите максимальную стоимость билета в каждом из ценовых классов."
   ]
  },
  {
   "cell_type": "code",
   "execution_count": 30,
   "metadata": {},
   "outputs": [
    {
     "name": "stdout",
     "output_type": "stream",
     "text": [
      "Средний возраст среди мужчин и женщин:\n"
     ]
    },
    {
     "data": {
      "text/plain": [
       "sex\n",
       "female    28.687071\n",
       "male      30.585233\n",
       "Name: age, dtype: float64"
      ]
     },
     "execution_count": 30,
     "metadata": {},
     "output_type": "execute_result"
    }
   ],
   "source": [
    "mean_sex_age = df.groupby('sex')['age'].mean()\n",
    "\n",
    "print(f\"Средний возраст среди мужчин и женщин:\")\n",
    "mean_sex_age"
   ]
  },
  {
   "cell_type": "code",
   "execution_count": 31,
   "metadata": {},
   "outputs": [
    {
     "name": "stdout",
     "output_type": "stream",
     "text": [
      "Доля выживших в различных возрастных группах:\n"
     ]
    },
    {
     "data": {
      "text/html": [
       "<div>\n",
       "<style scoped>\n",
       "    .dataframe tbody tr th:only-of-type {\n",
       "        vertical-align: middle;\n",
       "    }\n",
       "\n",
       "    .dataframe tbody tr th {\n",
       "        vertical-align: top;\n",
       "    }\n",
       "\n",
       "    .dataframe thead th {\n",
       "        text-align: right;\n",
       "    }\n",
       "</style>\n",
       "<table border=\"1\" class=\"dataframe\">\n",
       "  <thead>\n",
       "    <tr style=\"text-align: right;\">\n",
       "      <th></th>\n",
       "      <th>age_group</th>\n",
       "      <th>survived</th>\n",
       "    </tr>\n",
       "  </thead>\n",
       "  <tbody>\n",
       "    <tr>\n",
       "      <th>0</th>\n",
       "      <td>1.0</td>\n",
       "      <td>0.407225</td>\n",
       "    </tr>\n",
       "    <tr>\n",
       "      <th>1</th>\n",
       "      <td>2.0</td>\n",
       "      <td>0.423267</td>\n",
       "    </tr>\n",
       "    <tr>\n",
       "      <th>2</th>\n",
       "      <td>3.0</td>\n",
       "      <td>0.242424</td>\n",
       "    </tr>\n",
       "  </tbody>\n",
       "</table>\n",
       "</div>"
      ],
      "text/plain": [
       "   age_group  survived\n",
       "0        1.0  0.407225\n",
       "1        2.0  0.423267\n",
       "2        3.0  0.242424"
      ]
     },
     "execution_count": 31,
     "metadata": {},
     "output_type": "execute_result"
    }
   ],
   "source": [
    "survived_prop = df.pivot_table(index='age_group',\n",
    "               aggfunc=lambda x: x.sum() / x.count(),                            \n",
    "               values='survived').reset_index()\n",
    "print(f'Доля выживших в различных возрастных группах:')\n",
    "survived_prop"
   ]
  },
  {
   "cell_type": "code",
   "execution_count": 32,
   "metadata": {},
   "outputs": [
    {
     "name": "stdout",
     "output_type": "stream",
     "text": [
      "Максимальная стоимость билета в каждом из ценовых классов:\n"
     ]
    },
    {
     "data": {
      "text/plain": [
       "pclass\n",
       "1    512.3292\n",
       "2     73.5000\n",
       "3     69.5500\n",
       "Name: fare, dtype: float64"
      ]
     },
     "execution_count": 32,
     "metadata": {},
     "output_type": "execute_result"
    }
   ],
   "source": [
    "max_pclass = df.groupby('pclass')['fare'].max()\n",
    "\n",
    "print(f\"Максимальная стоимость билета в каждом из ценовых классов:\")\n",
    "max_pclass"
   ]
  },
  {
   "cell_type": "markdown",
   "metadata": {
    "id": "UgnIqugM92Yl"
   },
   "source": [
    "**Задание 6**\\\n",
    "Ответьте на предыдущие вопросы с помощью функции crosstab и метода pivot_table."
   ]
  },
  {
   "cell_type": "code",
   "execution_count": 34,
   "metadata": {
    "id": "e6XzdrNI92Yn"
   },
   "outputs": [
    {
     "name": "stdout",
     "output_type": "stream",
     "text": [
      "Средний возраст среди мужчин и женщин:\n"
     ]
    },
    {
     "data": {
      "text/html": [
       "<div>\n",
       "<style scoped>\n",
       "    .dataframe tbody tr th:only-of-type {\n",
       "        vertical-align: middle;\n",
       "    }\n",
       "\n",
       "    .dataframe tbody tr th {\n",
       "        vertical-align: top;\n",
       "    }\n",
       "\n",
       "    .dataframe thead th {\n",
       "        text-align: right;\n",
       "    }\n",
       "</style>\n",
       "<table border=\"1\" class=\"dataframe\">\n",
       "  <thead>\n",
       "    <tr style=\"text-align: right;\">\n",
       "      <th></th>\n",
       "      <th>sex</th>\n",
       "      <th>age</th>\n",
       "    </tr>\n",
       "  </thead>\n",
       "  <tbody>\n",
       "    <tr>\n",
       "      <th>0</th>\n",
       "      <td>female</td>\n",
       "      <td>28.687071</td>\n",
       "    </tr>\n",
       "    <tr>\n",
       "      <th>1</th>\n",
       "      <td>male</td>\n",
       "      <td>30.585233</td>\n",
       "    </tr>\n",
       "  </tbody>\n",
       "</table>\n",
       "</div>"
      ],
      "text/plain": [
       "      sex        age\n",
       "0  female  28.687071\n",
       "1    male  30.585233"
      ]
     },
     "execution_count": 34,
     "metadata": {},
     "output_type": "execute_result"
    }
   ],
   "source": [
    "average_age = df.pivot_table(index='sex',\n",
    "               aggfunc='mean',                            \n",
    "               values='age').reset_index()\n",
    "print(f\"Средний возраст среди мужчин и женщин:\")\n",
    "average_age"
   ]
  },
  {
   "cell_type": "code",
   "execution_count": 35,
   "metadata": {
    "id": "Y1fLcDDG92Yn"
   },
   "outputs": [
    {
     "name": "stdout",
     "output_type": "stream",
     "text": [
      "Доли выживших в различных возрастных группах:\n"
     ]
    },
    {
     "data": {
      "text/html": [
       "<div>\n",
       "<style scoped>\n",
       "    .dataframe tbody tr th:only-of-type {\n",
       "        vertical-align: middle;\n",
       "    }\n",
       "\n",
       "    .dataframe tbody tr th {\n",
       "        vertical-align: top;\n",
       "    }\n",
       "\n",
       "    .dataframe thead th {\n",
       "        text-align: right;\n",
       "    }\n",
       "</style>\n",
       "<table border=\"1\" class=\"dataframe\">\n",
       "  <thead>\n",
       "    <tr style=\"text-align: right;\">\n",
       "      <th>survived</th>\n",
       "      <th>Not Survived</th>\n",
       "      <th>Survived</th>\n",
       "    </tr>\n",
       "    <tr>\n",
       "      <th>age_group</th>\n",
       "      <th></th>\n",
       "      <th></th>\n",
       "    </tr>\n",
       "  </thead>\n",
       "  <tbody>\n",
       "    <tr>\n",
       "      <th>1.0</th>\n",
       "      <td>0.592775</td>\n",
       "      <td>0.407225</td>\n",
       "    </tr>\n",
       "    <tr>\n",
       "      <th>2.0</th>\n",
       "      <td>0.576733</td>\n",
       "      <td>0.423267</td>\n",
       "    </tr>\n",
       "    <tr>\n",
       "      <th>3.0</th>\n",
       "      <td>0.757576</td>\n",
       "      <td>0.242424</td>\n",
       "    </tr>\n",
       "  </tbody>\n",
       "</table>\n",
       "</div>"
      ],
      "text/plain": [
       "survived   Not Survived  Survived\n",
       "age_group                        \n",
       "1.0            0.592775  0.407225\n",
       "2.0            0.576733  0.423267\n",
       "3.0            0.757576  0.242424"
      ]
     },
     "execution_count": 35,
     "metadata": {},
     "output_type": "execute_result"
    }
   ],
   "source": [
    "survived_rate = pd.crosstab(\n",
    "    df['age_group'], \n",
    "    df['survived'], \n",
    "    normalize='index'\n",
    ").rename(columns={0: 'Not Survived', 1: 'Survived'})\n",
    "\n",
    "print(f\"Доли выживших в различных возрастных группах:\")\n",
    "survived_rate"
   ]
  },
  {
   "cell_type": "code",
   "execution_count": 36,
   "metadata": {
    "id": "GqQU0mj792Yo"
   },
   "outputs": [
    {
     "name": "stdout",
     "output_type": "stream",
     "text": [
      "Максимальная стоимость билета в каждом из ценовых классов:\n"
     ]
    },
    {
     "data": {
      "text/html": [
       "<div>\n",
       "<style scoped>\n",
       "    .dataframe tbody tr th:only-of-type {\n",
       "        vertical-align: middle;\n",
       "    }\n",
       "\n",
       "    .dataframe tbody tr th {\n",
       "        vertical-align: top;\n",
       "    }\n",
       "\n",
       "    .dataframe thead th {\n",
       "        text-align: right;\n",
       "    }\n",
       "</style>\n",
       "<table border=\"1\" class=\"dataframe\">\n",
       "  <thead>\n",
       "    <tr style=\"text-align: right;\">\n",
       "      <th></th>\n",
       "      <th>pclass</th>\n",
       "      <th>fare</th>\n",
       "    </tr>\n",
       "  </thead>\n",
       "  <tbody>\n",
       "    <tr>\n",
       "      <th>0</th>\n",
       "      <td>1</td>\n",
       "      <td>512.3292</td>\n",
       "    </tr>\n",
       "    <tr>\n",
       "      <th>1</th>\n",
       "      <td>2</td>\n",
       "      <td>73.5000</td>\n",
       "    </tr>\n",
       "    <tr>\n",
       "      <th>2</th>\n",
       "      <td>3</td>\n",
       "      <td>69.5500</td>\n",
       "    </tr>\n",
       "  </tbody>\n",
       "</table>\n",
       "</div>"
      ],
      "text/plain": [
       "   pclass      fare\n",
       "0       1  512.3292\n",
       "1       2   73.5000\n",
       "2       3   69.5500"
      ]
     },
     "execution_count": 36,
     "metadata": {},
     "output_type": "execute_result"
    }
   ],
   "source": [
    "max_paid = df.pivot_table(index='pclass',\n",
    "               aggfunc='max',                            \n",
    "               values='fare').reset_index()\n",
    "print(f\"Максимальная стоимость билета в каждом из ценовых классов:\")\n",
    "max_paid"
   ]
  },
  {
   "cell_type": "code",
   "execution_count": null,
   "metadata": {
    "id": "aWIvPKAD92Yo"
   },
   "outputs": [],
   "source": []
  }
 ],
 "metadata": {
  "colab": {
   "provenance": []
  },
  "kernelspec": {
   "display_name": "Python [conda env:base] *",
   "language": "python",
   "name": "conda-base-py"
  },
  "language_info": {
   "codemirror_mode": {
    "name": "ipython",
    "version": 3
   },
   "file_extension": ".py",
   "mimetype": "text/x-python",
   "name": "python",
   "nbconvert_exporter": "python",
   "pygments_lexer": "ipython3",
   "version": "3.12.7"
  }
 },
 "nbformat": 4,
 "nbformat_minor": 4
}
